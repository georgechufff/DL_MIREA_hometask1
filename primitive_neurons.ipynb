{
 "cells": [
  {
   "cell_type": "code",
   "execution_count": 56,
   "id": "3fcee4c0",
   "metadata": {},
   "outputs": [
    {
     "name": "stdout",
     "output_type": "stream",
     "text": [
      "1\n",
      "0\n"
     ]
    }
   ],
   "source": [
    "class NeuronNot:\n",
    "    def __init__(self, weight, bias):\n",
    "        self.weight = weight\n",
    "        self.bias = bias\n",
    "        \n",
    "    def forward(self, x):\n",
    "        total = self.bias + self.weight * x\n",
    "        return 0 if total <= 0 else 1\n",
    "    \n",
    "neuron_not = NeuronNot(-1, 1)\n",
    "print(neuron_not.forward(0))\n",
    "print(neuron_not.forward(1))"
   ]
  },
  {
   "cell_type": "code",
   "execution_count": 57,
   "id": "31d00fda",
   "metadata": {},
   "outputs": [
    {
     "name": "stdout",
     "output_type": "stream",
     "text": [
      "0\n",
      "1\n",
      "1\n",
      "1\n",
      "\n",
      "0\n",
      "0\n",
      "0\n",
      "1\n",
      "\n",
      "0\n",
      "1\n",
      "1\n",
      "0\n"
     ]
    }
   ],
   "source": [
    "class Neuron:\n",
    "    def __init__(self, weight: tuple, bias: int):\n",
    "        self.weight = weight\n",
    "        self.bias = bias\n",
    "        \n",
    "    def forward(self, x1, x2):\n",
    "        total = x1 * self.weight[0] + x2 * self.weight[1] + self.bias\n",
    "        return 1 if total > 0 else 0\n",
    "    \n",
    "neuron_or = Neuron((2, 2), -1)\n",
    "for i in range(2):\n",
    "    for j in range(2):\n",
    "        print(neuron_or.forward(i, j))\n",
    "        \n",
    "print()\n",
    "\n",
    "neuron_and = Neuron((1, 1), -1)\n",
    "for i in range(2):\n",
    "    for j in range(2):\n",
    "        print(neuron_and.forward(i, j))\n",
    "\n",
    "print()\n",
    "\n",
    "for i in range(2):\n",
    "    for j in range(2):\n",
    "        print(neuron_or.forward(neuron_and.forward(neuron_not.forward(i),j), neuron_and.forward(neuron_not.forward(j),i)))"
   ]
  },
  {
   "cell_type": "code",
   "execution_count": null,
   "id": "e863cc4e",
   "metadata": {},
   "outputs": [],
   "source": []
  }
 ],
 "metadata": {
  "kernelspec": {
   "display_name": "Python 3",
   "language": "python",
   "name": "python3"
  },
  "language_info": {
   "codemirror_mode": {
    "name": "ipython",
    "version": 3
   },
   "file_extension": ".py",
   "mimetype": "text/x-python",
   "name": "python",
   "nbconvert_exporter": "python",
   "pygments_lexer": "ipython3",
   "version": "3.8.8"
  }
 },
 "nbformat": 4,
 "nbformat_minor": 5
}
