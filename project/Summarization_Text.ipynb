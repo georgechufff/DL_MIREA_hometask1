{
  "cells": [
    {
      "cell_type": "markdown",
      "source": [
        "Данный проект был создан студентами МИРЭА Калинином Александром и Чуфистовым Егором. Задача этого проекта: в телеграмме преобразовать аудиосообщение в текстовое, а затем его суммаризовать. Полученный результат отправить пользователю. Сообщения могут быть распознаны только на английском языке. Данный проект использовал такие модели, как whisper, pegasus, pipeline.\n",
        "Поиском подходящих моделей и их использованием занимался Калинин Александр, а над созданием телеграмм-бота работал Чуфистов Егор. "
      ],
      "metadata": {
        "id": "PRNgEyfwC3TM"
      }
    },
    {
      "cell_type": "code",
      "execution_count": null,
      "metadata": {
        "id": "j8LVOd4GUfDO"
      },
      "outputs": [],
      "source": [
        "!pip install transformers\n",
        "!pip install sentencepiece\n",
        "!pip install git+https://github.com/openai/whisper.git\n",
        "!pip install jiwer\n",
        "!pip install pydub\n",
        "!pip install pyTelegramBotApi\n",
        "!sudo apt update && sudo apt install ffmpeg"
      ]
    },
    {
      "cell_type": "code",
      "execution_count": null,
      "metadata": {
        "id": "JvBRtSVkUJ31"
      },
      "outputs": [],
      "source": [
        "from transformers import PegasusTokenizer, pipeline\n",
        "import whisper\n",
        "import pprint\n",
        "import os\n",
        "from datetime import datetime\n",
        "from pydub import AudioSegment\n",
        "\n",
        "import telebot\n",
        "import uuid\n",
        "from telebot import types"
      ]
    },
    {
      "cell_type": "code",
      "execution_count": null,
      "metadata": {
        "id": "W2Zjl6hRUntR"
      },
      "outputs": [],
      "source": [
        "#Создание токенизации у модели Pegasus\n",
        "model_name = \"google/pegasus-xsum\"\n",
        "tokenizer = PegasusTokenizer.from_pretrained(model_name)"
      ]
    },
    {
      "cell_type": "code",
      "execution_count": null,
      "metadata": {
        "id": "iegyffCNBg4I"
      },
      "outputs": [],
      "source": [
        "#Загрузка моделей\n",
        "model = whisper.load_model(\"medium\")\n",
        "summarizer = pipeline(\"summarization\", model=model_name, tokenizer=tokenizer, framework=\"pt\")"
      ]
    },
    {
      "cell_type": "code",
      "execution_count": null,
      "metadata": {
        "id": "cpeSPZBz_-4s"
      },
      "outputs": [],
      "source": [
        "TOKEN = \"5415102077:AAGNWApJFAQf-CDghNGshz1bWyFMAzRJap0\"\n",
        "\n",
        "language = 'ru_RU'\n",
        "bot = telebot.TeleBot(TOKEN)\n",
        "\n",
        "\n",
        "@bot.message_handler(commands=['start'])\n",
        "def start(message):\n",
        "    bot.send_message(chat_id=message.chat.id, text=\"Для того, чтобы сделать перевод, \"\n",
        "                                                            \"ответьте голосовым сообщением \"\n",
        "                                                            \"на это сообщение.\")\n",
        "\n",
        "\n",
        "def recognize(file_path):\n",
        "    result = model.transcribe(file_path)\n",
        "    summary = summarizer(result[\"text\"], min_length=15, max_length=250)\n",
        "    return summary[0][\"summary_text\"]\n",
        "\n",
        "\n",
        "@bot.message_handler(content_types=['voice'])\n",
        "def voice_processing(message):\n",
        "    filename = str(uuid.uuid4())\n",
        "    file_name_full = f\"/{filename}.ogg\"\n",
        "    file_info = bot.get_file(message.voice.file_id)\n",
        "    downloaded_file = bot.download_file(file_info.file_path)\n",
        "    with open(file_name_full, 'wb') as new_file:\n",
        "        new_file.write(downloaded_file)\n",
        "    bot.send_message(chat_id=message.chat.id, text=\"Идет обработка аудиосообщения, \"\n",
        "                                                        \"пожалуйста, подождите.\")\n",
        "    text = recognize(file_name_full)\n",
        "    bot.reply_to(message, text)\n",
        "    os.remove(file_name_full)\n",
        "\n",
        "\n",
        "bot.polling()\n"
      ]
    }
  ],
  "metadata": {
    "accelerator": "GPU",
    "colab": {
      "provenance": []
    },
    "gpuClass": "standard",
    "kernelspec": {
      "display_name": "Python 3",
      "name": "python3"
    },
    "language_info": {
      "name": "python"
    }
  },
  "nbformat": 4,
  "nbformat_minor": 0
}